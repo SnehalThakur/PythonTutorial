{
 "cells": [
  {
   "cell_type": "markdown",
   "metadata": {},
   "source": [
    "# Python from the scratch\n",
    "      Python is a high level,object oriented,powerful programming language created by Guido van Rossum during 1985-1990. Python is an open source software with rich set of standard libraries."
   ]
  },
  {
   "cell_type": "markdown",
   "metadata": {},
   "source": [
    "We will use Python3. So lets get started with our Python"
   ]
  },
  {
   "cell_type": "code",
   "execution_count": null,
   "metadata": {},
   "outputs": [],
   "source": [
    "print(\"Hello Python World!!\")"
   ]
  },
  {
   "cell_type": "markdown",
   "metadata": {},
   "source": [
    "## Variables"
   ]
  },
  {
   "cell_type": "markdown",
   "metadata": {},
   "source": [
    "Variables are the names which are used to which are used to store values in the program. Python variables do not need explicit declaration. The declaration happens automatically when we assign a value to a variable."
   ]
  },
  {
   "cell_type": "code",
   "execution_count": null,
   "metadata": {},
   "outputs": [],
   "source": [
    "#integer datatype\n",
    "count=1000\n",
    "#print the count variable\n",
    "print(count)\n",
    "#type of count\n",
    "type(count)"
   ]
  },
  {
   "cell_type": "code",
   "execution_count": null,
   "metadata": {},
   "outputs": [],
   "source": [
    "#float datatype\n",
    "average=76.4\n",
    "#print the average variable\n",
    "print(average)\n",
    "#type of average\n",
    "type(average)"
   ]
  },
  {
   "cell_type": "markdown",
   "metadata": {},
   "source": [
    "In string datatype, we can represent string in single quotes (' ') as well as double quotes (\" \")"
   ]
  },
  {
   "cell_type": "code",
   "execution_count": null,
   "metadata": {},
   "outputs": [],
   "source": [
    "#string datatype\n",
    "name=\"Snehal\"\n",
    "nickName='Sonu'\n",
    "\n",
    "#print the name and nickName variable\n",
    "print(name)\n",
    "print(nickName)\n",
    "\n",
    "#type of name and nickName\n",
    "print(type(name))\n",
    "print(type(nickName))\n",
    "\n",
    "#Duplicate name string three times (name*3= SnehalSnehalSnehal)\n",
    "print(name*3)"
   ]
  },
  {
   "cell_type": "code",
   "execution_count": null,
   "metadata": {},
   "outputs": [],
   "source": [
    "#multiple assignments\n",
    "a=b=c=10\n",
    "print(a,b,c)"
   ]
  },
  {
   "cell_type": "code",
   "execution_count": null,
   "metadata": {},
   "outputs": [],
   "source": [
    "#multiple assignments with different datatypes\n",
    "a,b,c=10,12.5,'Python'\n",
    "print(a)\n",
    "print(b)\n",
    "print(c)"
   ]
  },
  {
   "cell_type": "markdown",
   "metadata": {},
   "source": [
    "## Basic Python Operations"
   ]
  },
  {
   "cell_type": "markdown",
   "metadata": {},
   "source": [
    "### Arithmetic Operators"
   ]
  },
  {
   "cell_type": "code",
   "execution_count": null,
   "metadata": {},
   "outputs": [],
   "source": [
    "#Addition\n",
    "500+600     "
   ]
  },
  {
   "cell_type": "code",
   "execution_count": null,
   "metadata": {},
   "outputs": [],
   "source": [
    "#Subtraction\n",
    "780-280"
   ]
  },
  {
   "cell_type": "code",
   "execution_count": null,
   "metadata": {},
   "outputs": [],
   "source": [
    "#Multiplication\n",
    "25*5"
   ]
  },
  {
   "cell_type": "code",
   "execution_count": null,
   "metadata": {},
   "outputs": [],
   "source": [
    "#modulus (mod)\n",
    "15%4"
   ]
  },
  {
   "cell_type": "code",
   "execution_count": null,
   "metadata": {},
   "outputs": [],
   "source": [
    "#Division\n",
    "10/7"
   ]
  },
  {
   "cell_type": "markdown",
   "metadata": {},
   "source": [
    "In floor division, result obtained to the nearest integer"
   ]
  },
  {
   "cell_type": "code",
   "execution_count": null,
   "metadata": {},
   "outputs": [],
   "source": [
    "#floor division or integer division\n",
    "10//7"
   ]
  },
  {
   "cell_type": "code",
   "execution_count": null,
   "metadata": {},
   "outputs": [],
   "source": [
    "2.8//2.0"
   ]
  },
  {
   "cell_type": "code",
   "execution_count": null,
   "metadata": {},
   "outputs": [],
   "source": [
    "#exponent (to the power of) operation returns square of a number\n",
    "5**2"
   ]
  },
  {
   "cell_type": "code",
   "execution_count": null,
   "metadata": {},
   "outputs": [],
   "source": [
    "a=50\n",
    "b=40\n",
    "c=10\n",
    "\n",
    "#Addition\n",
    "add=a+b\n",
    "print('Value of ',a,' + ',b,' = ',add)\n",
    "\n",
    "#Subtraction\n",
    "sub=a-b\n",
    "print('Value of ',a,' - ',b,' = ',sub)\n",
    "\n",
    "#Multiplication\n",
    "mul=a*b\n",
    "print('Value of ',a,' * ',b,' = ',mul)\n",
    "\n",
    "#Division\n",
    "div=a/b\n",
    "print('Value of ',a,' / ',b,' = ',div)\n",
    "\n",
    "#Floor Division\n",
    "fdiv=a//b\n",
    "print('Value of ',a,' // ',b,' = ',fdiv)\n",
    "\n",
    "#Mod\n",
    "mod=a%b\n",
    "print('Value of ',a,' % ',b,' = ',mod)\n",
    "\n",
    "#exponent\n",
    "square=c**2\n",
    "print('Square of',c,' = ',square)\n",
    "\n",
    "#exponent\n",
    "cube=c**3\n",
    "print('Cube of',c,' = ',cube)"
   ]
  },
  {
   "cell_type": "markdown",
   "metadata": {},
   "source": [
    "### Assignment Operators"
   ]
  },
  {
   "cell_type": "code",
   "execution_count": null,
   "metadata": {},
   "outputs": [],
   "source": [
    "a=50\n",
    "b=40\n",
    "c=0\n",
    "\n",
    "#Assign value from right to left (c=a)\n",
    "c=a\n",
    "print('Assigned result = ',c)\n",
    "\n",
    "#The below command adds right operand to the left operand and assign the result to left operand (a=a+b)\n",
    "a+=b\n",
    "print('Sum result of a = ',a)\n",
    "\n",
    "#The below command subtracts right operand from the left operand and assign the result to left operand (a=a-b)\n",
    "a-=b\n",
    "print('Subtracted result of a = ',a)\n",
    "\n",
    "#The below command multiplies right operand with the left operand and assign the result to left operand (a=a*b)\n",
    "a*=b\n",
    "print('Multiplication result of a = ',a)\n",
    "\n",
    "#The below command divides left operand with the right operand and assign the result to left operand (a=a/b)\n",
    "a/=b\n",
    "print('Division result of a = ',a)\n",
    "\n",
    "#The below command performs floor division on operators and assign value to the left operand (a=a//b)\n",
    "a//=b\n",
    "print('Floor division result of a = ',fdiv)\n",
    "\n",
    "#The below command takes modulus using two operands and assign the result to left operand (a=a%b)\n",
    "a%=b\n",
    "print('Modulus result of a = ',a)\n",
    "\n",
    "#The below command performs exponential (power) calculation on operators and assign value to the left operand (c=c**2)\n",
    "c**=2\n",
    "print('Squaring result of c = ',c)"
   ]
  },
  {
   "cell_type": "markdown",
   "metadata": {},
   "source": [
    "### Comparison (Relational) Operators"
   ]
  },
  {
   "cell_type": "code",
   "execution_count": null,
   "metadata": {},
   "outputs": [],
   "source": [
    "a=50\n",
    "b=40\n",
    "\n",
    "print('value of a is ',a)\n",
    "print('value of b is ',b)\n",
    "\n",
    "#a is equal to b\n",
    "print('a==b is ',a==b)\n",
    "\n",
    "#a is not equal to b\n",
    "print('a!=b is ',a!=b)\n",
    "\n",
    "#a is less than b\n",
    "print('a<b is ',a<b)\n",
    "\n",
    "#a is less than b\n",
    "print('a>b is ',a>b)\n",
    "\n",
    "#a is less than or equal to b\n",
    "print('a<=b is ',a<=b)\n",
    "\n",
    "#a is greater than or equal to b\n",
    "print('a>=b is ',a>=b)"
   ]
  },
  {
   "cell_type": "markdown",
   "metadata": {},
   "source": [
    "### Logical Operators"
   ]
  },
  {
   "cell_type": "code",
   "execution_count": null,
   "metadata": {},
   "outputs": [],
   "source": [
    "a=1\n",
    "b=0\n",
    "\n",
    "# Logical AND\n",
    "c=a and b\n",
    "print(a,' and ',b,' = ' ,c)\n",
    "print(0,' and ',0,' = ' ,0 and 0)\n",
    "print(0,' and ',1,' = ' ,0 and 1)\n",
    "print(1,' and ',1,' = ' ,1 and 1)\n",
    "print('=================')\n",
    "\n",
    "# Logical OR\n",
    "c=a or b\n",
    "print(a,' or ',b,' = ',c)\n",
    "print(0,' or ',0,' = ',0 or 0)\n",
    "print(0,' or ',1,' = ',0 or 1)\n",
    "print(1,' or ',1,' = ',1 or 1)\n",
    "print('=================')\n",
    "\n",
    "# Logical NOT\n",
    "c=not(a)\n",
    "print('not(a)',c)\n",
    "print('not(0)',not(0))\n",
    "print('not(1)',not(1))"
   ]
  },
  {
   "cell_type": "markdown",
   "metadata": {},
   "source": [
    "### Bitwise Operators"
   ]
  },
  {
   "cell_type": "code",
   "execution_count": null,
   "metadata": {},
   "outputs": [],
   "source": [
    "# 60 = 0011 1100\n",
    "a = 60 \n",
    "# 13 = 0000 1101\n",
    "b = 13 \n",
    "c = 0\n",
    "\n",
    "#Binary AND (&)\n",
    "# Operator copies a bit to the result if it exists in both operands.\n",
    "# 12 = 0000 1100\n",
    "c = a & b \n",
    "print(\"Value of c is \", c)\n",
    "\n",
    "# Binary OR (|)\n",
    "# The below command copies a bit if it exists in either operand.\n",
    "# 61 = 0011 1101\n",
    "c = a | b \n",
    "print(\"Value of c is \", c)\n",
    "\n",
    "# Binary XOR (^)\n",
    "# The below command copies the bit if it is set in one operand but not both.\n",
    "# 49 = 0011 0001\n",
    "c = a ^ b \n",
    "print(\"Value of c (c = a ^ b) is \", c)\n",
    "\n",
    "# Binary Ones Complement (~)\n",
    "# The below command is unary and has the effect of 'flipping' bits.\n",
    "# -61 = 1100 0011\n",
    "c = ~a; \n",
    "print(\"Value of c (c = ~a) is \", c)\n",
    "\n",
    "# Binary Left Shift (<<)\n",
    "# The left operands value is moved left by the number of bits specified by the right operand.\n",
    "c = a << 2; # 240 = 1111 0000\n",
    "print(\"Value of c (c = a << 2) is \", c)\n",
    "\n",
    "# Binary Right Shift (>>)\n",
    "#The left operands value is moved right by the number of bits specified by the right operand.\n",
    "c = a >> 2; # 15 = 0000 1111\n",
    "print(\"Value of c is (c = a >> 2) \", c)"
   ]
  }
 ],
 "metadata": {
  "kernelspec": {
   "display_name": "Python 3",
   "language": "python",
   "name": "python3"
  },
  "language_info": {
   "codemirror_mode": {
    "name": "ipython",
    "version": 3
   },
   "file_extension": ".py",
   "mimetype": "text/x-python",
   "name": "python",
   "nbconvert_exporter": "python",
   "pygments_lexer": "ipython3",
   "version": "3.4.4"
  }
 },
 "nbformat": 4,
 "nbformat_minor": 2
}
