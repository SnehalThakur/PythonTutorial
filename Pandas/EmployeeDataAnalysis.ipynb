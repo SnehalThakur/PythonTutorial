{
 "cells": [
  {
   "cell_type": "markdown",
   "id": "b899db29",
   "metadata": {},
   "source": [
    "# Employee Data Analysis"
   ]
  },
  {
   "cell_type": "code",
   "execution_count": 1,
   "id": "47c17e7d",
   "metadata": {},
   "outputs": [],
   "source": [
    "# import libraries\n",
    "import pandas as pd\n",
    "import matplotlib.pyplot as plt"
   ]
  },
  {
   "cell_type": "code",
   "execution_count": 2,
   "id": "10a7b016",
   "metadata": {},
   "outputs": [
    {
     "data": {
      "text/html": [
       "<div>\n",
       "<style scoped>\n",
       "    .dataframe tbody tr th:only-of-type {\n",
       "        vertical-align: middle;\n",
       "    }\n",
       "\n",
       "    .dataframe tbody tr th {\n",
       "        vertical-align: top;\n",
       "    }\n",
       "\n",
       "    .dataframe thead th {\n",
       "        text-align: right;\n",
       "    }\n",
       "</style>\n",
       "<table border=\"1\" class=\"dataframe\">\n",
       "  <thead>\n",
       "    <tr style=\"text-align: right;\">\n",
       "      <th></th>\n",
       "      <th>First Name</th>\n",
       "      <th>Gender</th>\n",
       "      <th>Start Date</th>\n",
       "      <th>Last Login Time</th>\n",
       "      <th>Salary</th>\n",
       "      <th>Bonus %</th>\n",
       "      <th>Senior Management</th>\n",
       "      <th>Team</th>\n",
       "    </tr>\n",
       "  </thead>\n",
       "  <tbody>\n",
       "    <tr>\n",
       "      <th>0</th>\n",
       "      <td>Douglas</td>\n",
       "      <td>Male</td>\n",
       "      <td>8/6/1993</td>\n",
       "      <td>12:42 PM</td>\n",
       "      <td>97308</td>\n",
       "      <td>6.945</td>\n",
       "      <td>True</td>\n",
       "      <td>Marketing</td>\n",
       "    </tr>\n",
       "    <tr>\n",
       "      <th>1</th>\n",
       "      <td>Thomas</td>\n",
       "      <td>Male</td>\n",
       "      <td>3/31/1996</td>\n",
       "      <td>6:53 AM</td>\n",
       "      <td>61933</td>\n",
       "      <td>4.170</td>\n",
       "      <td>True</td>\n",
       "      <td>NaN</td>\n",
       "    </tr>\n",
       "    <tr>\n",
       "      <th>2</th>\n",
       "      <td>Maria</td>\n",
       "      <td>Female</td>\n",
       "      <td>4/23/1993</td>\n",
       "      <td>11:17 AM</td>\n",
       "      <td>130590</td>\n",
       "      <td>11.858</td>\n",
       "      <td>False</td>\n",
       "      <td>Finance</td>\n",
       "    </tr>\n",
       "    <tr>\n",
       "      <th>3</th>\n",
       "      <td>Jerry</td>\n",
       "      <td>Male</td>\n",
       "      <td>3/4/2005</td>\n",
       "      <td>1:00 PM</td>\n",
       "      <td>138705</td>\n",
       "      <td>9.340</td>\n",
       "      <td>True</td>\n",
       "      <td>Finance</td>\n",
       "    </tr>\n",
       "    <tr>\n",
       "      <th>4</th>\n",
       "      <td>Larry</td>\n",
       "      <td>Male</td>\n",
       "      <td>1/24/1998</td>\n",
       "      <td>4:47 PM</td>\n",
       "      <td>101004</td>\n",
       "      <td>1.389</td>\n",
       "      <td>True</td>\n",
       "      <td>Client Services</td>\n",
       "    </tr>\n",
       "    <tr>\n",
       "      <th>5</th>\n",
       "      <td>Dennis</td>\n",
       "      <td>Male</td>\n",
       "      <td>4/18/1987</td>\n",
       "      <td>1:35 AM</td>\n",
       "      <td>115163</td>\n",
       "      <td>10.125</td>\n",
       "      <td>False</td>\n",
       "      <td>Legal</td>\n",
       "    </tr>\n",
       "    <tr>\n",
       "      <th>6</th>\n",
       "      <td>Ruby</td>\n",
       "      <td>Female</td>\n",
       "      <td>8/17/1987</td>\n",
       "      <td>4:20 PM</td>\n",
       "      <td>65476</td>\n",
       "      <td>10.012</td>\n",
       "      <td>True</td>\n",
       "      <td>Product</td>\n",
       "    </tr>\n",
       "    <tr>\n",
       "      <th>7</th>\n",
       "      <td>NaN</td>\n",
       "      <td>Female</td>\n",
       "      <td>7/20/2015</td>\n",
       "      <td>10:43 AM</td>\n",
       "      <td>45906</td>\n",
       "      <td>11.598</td>\n",
       "      <td>NaN</td>\n",
       "      <td>Finance</td>\n",
       "    </tr>\n",
       "    <tr>\n",
       "      <th>8</th>\n",
       "      <td>Angela</td>\n",
       "      <td>Female</td>\n",
       "      <td>11/22/2005</td>\n",
       "      <td>6:29 AM</td>\n",
       "      <td>95570</td>\n",
       "      <td>18.523</td>\n",
       "      <td>True</td>\n",
       "      <td>Engineering</td>\n",
       "    </tr>\n",
       "    <tr>\n",
       "      <th>9</th>\n",
       "      <td>Frances</td>\n",
       "      <td>Female</td>\n",
       "      <td>8/8/2002</td>\n",
       "      <td>6:51 AM</td>\n",
       "      <td>139852</td>\n",
       "      <td>7.524</td>\n",
       "      <td>True</td>\n",
       "      <td>Business Development</td>\n",
       "    </tr>\n",
       "  </tbody>\n",
       "</table>\n",
       "</div>"
      ],
      "text/plain": [
       "  First Name  Gender  Start Date Last Login Time  Salary  Bonus %  \\\n",
       "0    Douglas    Male    8/6/1993        12:42 PM   97308    6.945   \n",
       "1     Thomas    Male   3/31/1996         6:53 AM   61933    4.170   \n",
       "2      Maria  Female   4/23/1993        11:17 AM  130590   11.858   \n",
       "3      Jerry    Male    3/4/2005         1:00 PM  138705    9.340   \n",
       "4      Larry    Male   1/24/1998         4:47 PM  101004    1.389   \n",
       "5     Dennis    Male   4/18/1987         1:35 AM  115163   10.125   \n",
       "6       Ruby  Female   8/17/1987         4:20 PM   65476   10.012   \n",
       "7        NaN  Female   7/20/2015        10:43 AM   45906   11.598   \n",
       "8     Angela  Female  11/22/2005         6:29 AM   95570   18.523   \n",
       "9    Frances  Female    8/8/2002         6:51 AM  139852    7.524   \n",
       "\n",
       "  Senior Management                  Team  \n",
       "0              True             Marketing  \n",
       "1              True                   NaN  \n",
       "2             False               Finance  \n",
       "3              True               Finance  \n",
       "4              True       Client Services  \n",
       "5             False                 Legal  \n",
       "6              True               Product  \n",
       "7               NaN               Finance  \n",
       "8              True           Engineering  \n",
       "9              True  Business Development  "
      ]
     },
     "execution_count": 2,
     "metadata": {},
     "output_type": "execute_result"
    }
   ],
   "source": [
    "# reading csv file of employees dataset\n",
    "emp_df = pd.read_csv(r'C:\\Users\\Snehal Thakur\\Desktop\\PythonClass\\Pandas\\Datasets\\employees.csv')\n",
    "emp_df.head(10) # Top 10 entries"
   ]
  },
  {
   "cell_type": "code",
   "execution_count": 3,
   "id": "f32a94b6",
   "metadata": {},
   "outputs": [
    {
     "data": {
      "text/plain": [
       "Index(['First Name', 'Gender', 'Start Date', 'Last Login Time', 'Salary',\n",
       "       'Bonus %', 'Senior Management', 'Team'],\n",
       "      dtype='object')"
      ]
     },
     "execution_count": 3,
     "metadata": {},
     "output_type": "execute_result"
    }
   ],
   "source": [
    "emp_df.columns  # all column names of employee dataframe"
   ]
  },
  {
   "cell_type": "code",
   "execution_count": 4,
   "id": "a7bdd234",
   "metadata": {},
   "outputs": [
    {
     "data": {
      "text/plain": [
       "pandas.core.frame.DataFrame"
      ]
     },
     "execution_count": 4,
     "metadata": {},
     "output_type": "execute_result"
    }
   ],
   "source": [
    "type(emp_df)   # type of dataframe"
   ]
  },
  {
   "cell_type": "code",
   "execution_count": 5,
   "id": "dd5baaed",
   "metadata": {},
   "outputs": [
    {
     "data": {
      "text/plain": [
       "First Name            object\n",
       "Gender                object\n",
       "Start Date            object\n",
       "Last Login Time       object\n",
       "Salary                 int64\n",
       "Bonus %              float64\n",
       "Senior Management     object\n",
       "Team                  object\n",
       "dtype: object"
      ]
     },
     "execution_count": 5,
     "metadata": {},
     "output_type": "execute_result"
    }
   ],
   "source": [
    "emp_df.dtypes # column type"
   ]
  },
  {
   "cell_type": "code",
   "execution_count": 6,
   "id": "cb82d2d9",
   "metadata": {},
   "outputs": [
    {
     "name": "stdout",
     "output_type": "stream",
     "text": [
      "<class 'pandas.core.frame.DataFrame'>\n",
      "RangeIndex: 1000 entries, 0 to 999\n",
      "Data columns (total 8 columns):\n",
      " #   Column             Non-Null Count  Dtype  \n",
      "---  ------             --------------  -----  \n",
      " 0   First Name         933 non-null    object \n",
      " 1   Gender             855 non-null    object \n",
      " 2   Start Date         1000 non-null   object \n",
      " 3   Last Login Time    1000 non-null   object \n",
      " 4   Salary             1000 non-null   int64  \n",
      " 5   Bonus %            1000 non-null   float64\n",
      " 6   Senior Management  933 non-null    object \n",
      " 7   Team               957 non-null    object \n",
      "dtypes: float64(1), int64(1), object(6)\n",
      "memory usage: 62.6+ KB\n"
     ]
    }
   ],
   "source": [
    "emp_df.info()    # dataframe columns info"
   ]
  },
  {
   "cell_type": "code",
   "execution_count": 7,
   "id": "a92422dc",
   "metadata": {},
   "outputs": [
    {
     "data": {
      "text/html": [
       "<div>\n",
       "<style scoped>\n",
       "    .dataframe tbody tr th:only-of-type {\n",
       "        vertical-align: middle;\n",
       "    }\n",
       "\n",
       "    .dataframe tbody tr th {\n",
       "        vertical-align: top;\n",
       "    }\n",
       "\n",
       "    .dataframe thead th {\n",
       "        text-align: right;\n",
       "    }\n",
       "</style>\n",
       "<table border=\"1\" class=\"dataframe\">\n",
       "  <thead>\n",
       "    <tr style=\"text-align: right;\">\n",
       "      <th></th>\n",
       "      <th>First Name</th>\n",
       "      <th>Gender</th>\n",
       "      <th>Start Date</th>\n",
       "      <th>Last Login Time</th>\n",
       "      <th>Salary</th>\n",
       "      <th>Bonus %</th>\n",
       "      <th>Senior Management</th>\n",
       "      <th>Team</th>\n",
       "    </tr>\n",
       "  </thead>\n",
       "  <tbody>\n",
       "    <tr>\n",
       "      <th>count</th>\n",
       "      <td>933</td>\n",
       "      <td>855</td>\n",
       "      <td>1000</td>\n",
       "      <td>1000</td>\n",
       "      <td>1000.000000</td>\n",
       "      <td>1000.000000</td>\n",
       "      <td>933</td>\n",
       "      <td>957</td>\n",
       "    </tr>\n",
       "    <tr>\n",
       "      <th>unique</th>\n",
       "      <td>200</td>\n",
       "      <td>2</td>\n",
       "      <td>972</td>\n",
       "      <td>720</td>\n",
       "      <td>NaN</td>\n",
       "      <td>NaN</td>\n",
       "      <td>2</td>\n",
       "      <td>10</td>\n",
       "    </tr>\n",
       "    <tr>\n",
       "      <th>top</th>\n",
       "      <td>Marilyn</td>\n",
       "      <td>Female</td>\n",
       "      <td>10/30/1994</td>\n",
       "      <td>1:35 PM</td>\n",
       "      <td>NaN</td>\n",
       "      <td>NaN</td>\n",
       "      <td>True</td>\n",
       "      <td>Client Services</td>\n",
       "    </tr>\n",
       "    <tr>\n",
       "      <th>freq</th>\n",
       "      <td>11</td>\n",
       "      <td>431</td>\n",
       "      <td>2</td>\n",
       "      <td>5</td>\n",
       "      <td>NaN</td>\n",
       "      <td>NaN</td>\n",
       "      <td>468</td>\n",
       "      <td>106</td>\n",
       "    </tr>\n",
       "    <tr>\n",
       "      <th>mean</th>\n",
       "      <td>NaN</td>\n",
       "      <td>NaN</td>\n",
       "      <td>NaN</td>\n",
       "      <td>NaN</td>\n",
       "      <td>90662.181000</td>\n",
       "      <td>10.207555</td>\n",
       "      <td>NaN</td>\n",
       "      <td>NaN</td>\n",
       "    </tr>\n",
       "    <tr>\n",
       "      <th>std</th>\n",
       "      <td>NaN</td>\n",
       "      <td>NaN</td>\n",
       "      <td>NaN</td>\n",
       "      <td>NaN</td>\n",
       "      <td>32923.693342</td>\n",
       "      <td>5.528481</td>\n",
       "      <td>NaN</td>\n",
       "      <td>NaN</td>\n",
       "    </tr>\n",
       "    <tr>\n",
       "      <th>min</th>\n",
       "      <td>NaN</td>\n",
       "      <td>NaN</td>\n",
       "      <td>NaN</td>\n",
       "      <td>NaN</td>\n",
       "      <td>35013.000000</td>\n",
       "      <td>1.015000</td>\n",
       "      <td>NaN</td>\n",
       "      <td>NaN</td>\n",
       "    </tr>\n",
       "    <tr>\n",
       "      <th>25%</th>\n",
       "      <td>NaN</td>\n",
       "      <td>NaN</td>\n",
       "      <td>NaN</td>\n",
       "      <td>NaN</td>\n",
       "      <td>62613.000000</td>\n",
       "      <td>5.401750</td>\n",
       "      <td>NaN</td>\n",
       "      <td>NaN</td>\n",
       "    </tr>\n",
       "    <tr>\n",
       "      <th>50%</th>\n",
       "      <td>NaN</td>\n",
       "      <td>NaN</td>\n",
       "      <td>NaN</td>\n",
       "      <td>NaN</td>\n",
       "      <td>90428.000000</td>\n",
       "      <td>9.838500</td>\n",
       "      <td>NaN</td>\n",
       "      <td>NaN</td>\n",
       "    </tr>\n",
       "    <tr>\n",
       "      <th>75%</th>\n",
       "      <td>NaN</td>\n",
       "      <td>NaN</td>\n",
       "      <td>NaN</td>\n",
       "      <td>NaN</td>\n",
       "      <td>118740.250000</td>\n",
       "      <td>14.838000</td>\n",
       "      <td>NaN</td>\n",
       "      <td>NaN</td>\n",
       "    </tr>\n",
       "    <tr>\n",
       "      <th>max</th>\n",
       "      <td>NaN</td>\n",
       "      <td>NaN</td>\n",
       "      <td>NaN</td>\n",
       "      <td>NaN</td>\n",
       "      <td>149908.000000</td>\n",
       "      <td>19.944000</td>\n",
       "      <td>NaN</td>\n",
       "      <td>NaN</td>\n",
       "    </tr>\n",
       "  </tbody>\n",
       "</table>\n",
       "</div>"
      ],
      "text/plain": [
       "       First Name  Gender  Start Date Last Login Time         Salary  \\\n",
       "count         933     855        1000            1000    1000.000000   \n",
       "unique        200       2         972             720            NaN   \n",
       "top       Marilyn  Female  10/30/1994         1:35 PM            NaN   \n",
       "freq           11     431           2               5            NaN   \n",
       "mean          NaN     NaN         NaN             NaN   90662.181000   \n",
       "std           NaN     NaN         NaN             NaN   32923.693342   \n",
       "min           NaN     NaN         NaN             NaN   35013.000000   \n",
       "25%           NaN     NaN         NaN             NaN   62613.000000   \n",
       "50%           NaN     NaN         NaN             NaN   90428.000000   \n",
       "75%           NaN     NaN         NaN             NaN  118740.250000   \n",
       "max           NaN     NaN         NaN             NaN  149908.000000   \n",
       "\n",
       "            Bonus % Senior Management             Team  \n",
       "count   1000.000000               933              957  \n",
       "unique          NaN                 2               10  \n",
       "top             NaN              True  Client Services  \n",
       "freq            NaN               468              106  \n",
       "mean      10.207555               NaN              NaN  \n",
       "std        5.528481               NaN              NaN  \n",
       "min        1.015000               NaN              NaN  \n",
       "25%        5.401750               NaN              NaN  \n",
       "50%        9.838500               NaN              NaN  \n",
       "75%       14.838000               NaN              NaN  \n",
       "max       19.944000               NaN              NaN  "
      ]
     },
     "execution_count": 7,
     "metadata": {},
     "output_type": "execute_result"
    }
   ],
   "source": [
    "emp_df.describe(include=\"all\")     # dataframe summary"
   ]
  },
  {
   "cell_type": "code",
   "execution_count": 8,
   "id": "c7a48b26",
   "metadata": {},
   "outputs": [
    {
     "data": {
      "text/plain": [
       "First Name            933\n",
       "Gender                855\n",
       "Start Date           1000\n",
       "Last Login Time      1000\n",
       "Salary               1000\n",
       "Bonus %              1000\n",
       "Senior Management     933\n",
       "Team                  957\n",
       "dtype: int64"
      ]
     },
     "execution_count": 8,
     "metadata": {},
     "output_type": "execute_result"
    }
   ],
   "source": [
    "emp_df.count()    # columnwise count"
   ]
  },
  {
   "cell_type": "code",
   "execution_count": 9,
   "id": "d0915ab7",
   "metadata": {},
   "outputs": [
    {
     "data": {
      "text/plain": [
       "<AxesSubplot:>"
      ]
     },
     "execution_count": 9,
     "metadata": {},
     "output_type": "execute_result"
    },
    {
     "data": {
      "image/png": "[encoded data removed]",
      "text/plain": [
       "<Figure size 432x288 with 1 Axes>"
      ]
     },
     "metadata": {
      "needs_background": "light"
     },
     "output_type": "display_data"
    }
   ],
   "source": [
    "emp_df.plot()"
   ]
  },
  {
   "cell_type": "code",
   "execution_count": 10,
   "id": "21b67d05",
   "metadata": {},
   "outputs": [
    {
     "data": {
      "text/plain": [
       "<AxesSubplot:>"
      ]
     },
     "execution_count": 10,
     "metadata": {},
     "output_type": "execute_result"
    },
    {
     "data": {
      "image/png": "[encoded data removed]",
      "text/plain": [
       "<Figure size 432x288 with 1 Axes>"
      ]
     },
     "metadata": {
      "needs_background": "light"
     },
     "output_type": "display_data"
    }
   ],
   "source": [
    "#plt.bar(emp_df.columns,emp_df.count(),width=1, edgecolor=\"white\", linewidth=0.7)\n",
    "emp_df.count().plot(kind = 'bar')"
   ]
  },
  {
   "cell_type": "code",
   "execution_count": 11,
   "id": "dabc4914",
   "metadata": {},
   "outputs": [
    {
     "data": {
      "text/plain": [
       "Female    431\n",
       "Male      424\n",
       "Name: Gender, dtype: int64"
      ]
     },
     "execution_count": 11,
     "metadata": {},
     "output_type": "execute_result"
    }
   ],
   "source": [
    "emp_df[\"Gender\"].value_counts()"
   ]
  },
  {
   "cell_type": "code",
   "execution_count": 12,
   "id": "c9204d3f",
   "metadata": {},
   "outputs": [
    {
     "data": {
      "text/plain": [
       "<BarContainer object of 2 artists>"
      ]
     },
     "execution_count": 12,
     "metadata": {},
     "output_type": "execute_result"
    },
    {
     "data": {
      "image/png": "[encoded data removed]",
      "text/plain": [
       "<Figure size 432x288 with 1 Axes>"
      ]
     },
     "metadata": {
      "needs_background": "light"
     },
     "output_type": "display_data"
    }
   ],
   "source": [
    "plt.bar([\"Male\",\"Female\"],emp_df[\"Gender\"].value_counts())"
   ]
  },
  {
   "cell_type": "code",
   "execution_count": 13,
   "id": "e4635a1c",
   "metadata": {},
   "outputs": [
    {
     "data": {
      "text/plain": [
       "First Name            67\n",
       "Gender               145\n",
       "Start Date             0\n",
       "Last Login Time        0\n",
       "Salary                 0\n",
       "Bonus %                0\n",
       "Senior Management     67\n",
       "Team                  43\n",
       "dtype: int64"
      ]
     },
     "execution_count": 13,
     "metadata": {},
     "output_type": "execute_result"
    }
   ],
   "source": [
    "emp_df.isna().sum()   # check total null records"
   ]
  },
  {
   "cell_type": "code",
   "execution_count": 14,
   "id": "44f69e7b",
   "metadata": {},
   "outputs": [
    {
     "data": {
      "text/plain": [
       "0"
      ]
     },
     "execution_count": 14,
     "metadata": {},
     "output_type": "execute_result"
    }
   ],
   "source": [
    "emp_df.duplicated().sum()  # check total duplicate records\n",
    "# emp_df.drop_duplicates(inplace = True)"
   ]
  },
  {
   "cell_type": "code",
   "execution_count": 15,
   "id": "05efac5e",
   "metadata": {},
   "outputs": [
    {
     "data": {
      "text/plain": [
       "0                 Marketing\n",
       "1                       NaN\n",
       "2                   Finance\n",
       "3                   Finance\n",
       "4           Client Services\n",
       "               ...         \n",
       "995            Distribution\n",
       "996                 Finance\n",
       "997                 Product\n",
       "998    Business Development\n",
       "999                   Sales\n",
       "Name: Team, Length: 1000, dtype: object"
      ]
     },
     "execution_count": 15,
     "metadata": {},
     "output_type": "execute_result"
    }
   ],
   "source": [
    "emp_df[\"Team\"]"
   ]
  },
  {
   "cell_type": "code",
   "execution_count": 16,
   "id": "3f442ff4",
   "metadata": {},
   "outputs": [
    {
     "data": {
      "text/plain": [
       "Client Services         106\n",
       "Finance                 102\n",
       "Business Development    101\n",
       "Marketing                98\n",
       "Product                  95\n",
       "Sales                    94\n",
       "Engineering              92\n",
       "Human Resources          91\n",
       "Distribution             90\n",
       "Legal                    88\n",
       "Name: Team, dtype: int64"
      ]
     },
     "execution_count": 16,
     "metadata": {},
     "output_type": "execute_result"
    }
   ],
   "source": [
    "emp_df[\"Team\"].value_counts()    # value count of Team column"
   ]
  },
  {
   "cell_type": "code",
   "execution_count": 17,
   "id": "097d3619",
   "metadata": {},
   "outputs": [
    {
     "data": {
      "text/plain": [
       "<AxesSubplot:>"
      ]
     },
     "execution_count": 17,
     "metadata": {},
     "output_type": "execute_result"
    },
    {
     "data": {
      "image/png": "[encoded data removed]",
      "text/plain": [
       "<Figure size 432x288 with 1 Axes>"
      ]
     },
     "metadata": {
      "needs_background": "light"
     },
     "output_type": "display_data"
    }
   ],
   "source": [
    "emp_df[\"Team\"].value_counts().plot(kind = 'bar')"
   ]
  },
  {
   "cell_type": "code",
   "execution_count": 18,
   "id": "1ff12b4f",
   "metadata": {},
   "outputs": [
    {
     "data": {
      "text/plain": [
       "149908"
      ]
     },
     "execution_count": 18,
     "metadata": {},
     "output_type": "execute_result"
    }
   ],
   "source": [
    "emp_df.Salary.max()      # employee with maximum Salary"
   ]
  },
  {
   "cell_type": "code",
   "execution_count": 19,
   "id": "f3de1d60",
   "metadata": {},
   "outputs": [
    {
     "data": {
      "text/plain": [
       "35013"
      ]
     },
     "execution_count": 19,
     "metadata": {},
     "output_type": "execute_result"
    }
   ],
   "source": [
    "emp_df.Salary.min()       # employee with minimum Salary"
   ]
  },
  {
   "cell_type": "code",
   "execution_count": 20,
   "id": "710ddc8e",
   "metadata": {},
   "outputs": [
    {
     "data": {
      "text/plain": [
       "<AxesSubplot:xlabel='Bonus %', ylabel='Salary'>"
      ]
     },
     "execution_count": 20,
     "metadata": {},
     "output_type": "execute_result"
    },
    {
     "data": {
      "image/png": "[encoded data removed]",
      "text/plain": [
       "<Figure size 432x288 with 1 Axes>"
      ]
     },
     "metadata": {
      "needs_background": "light"
     },
     "output_type": "display_data"
    }
   ],
   "source": [
    "emp_df.plot(kind = 'scatter', x = 'Bonus %', y = 'Salary')"
   ]
  },
  {
   "cell_type": "code",
   "execution_count": 21,
   "id": "f2329a6a",
   "metadata": {},
   "outputs": [
    {
     "data": {
      "text/plain": [
       "Client Services         106\n",
       "Finance                 102\n",
       "Business Development    101\n",
       "Marketing                98\n",
       "Product                  95\n",
       "Sales                    94\n",
       "Engineering              92\n",
       "Human Resources          91\n",
       "Distribution             90\n",
       "Legal                    88\n",
       "Name: Team, dtype: int64"
      ]
     },
     "execution_count": 21,
     "metadata": {},
     "output_type": "execute_result"
    }
   ],
   "source": [
    "emp_df[\"Team\"].value_counts()"
   ]
  },
  {
   "cell_type": "code",
   "execution_count": 22,
   "id": "12595d47",
   "metadata": {},
   "outputs": [
    {
     "data": {
      "text/plain": [
       "0    Client Services\n",
       "dtype: object"
      ]
     },
     "execution_count": 22,
     "metadata": {},
     "output_type": "execute_result"
    }
   ],
   "source": [
    "emp_df[\"Team\"].mode()"
   ]
  },
  {
   "cell_type": "code",
   "execution_count": 23,
   "id": "dd8ff143",
   "metadata": {},
   "outputs": [
    {
     "data": {
      "text/plain": [
       "'Client Services'"
      ]
     },
     "execution_count": 23,
     "metadata": {},
     "output_type": "execute_result"
    }
   ],
   "source": [
    "emp_df.Team.mode()[0]"
   ]
  },
  {
   "cell_type": "code",
   "execution_count": 24,
   "id": "0e262213",
   "metadata": {},
   "outputs": [],
   "source": [
    "emp_df.Team.fillna(value=emp_df.Team.mode()[0], inplace=True)   # fill NA of Team column by mode"
   ]
  },
  {
   "cell_type": "code",
   "execution_count": 25,
   "id": "b502b165",
   "metadata": {},
   "outputs": [
    {
     "data": {
      "text/plain": [
       "True     468\n",
       "False    465\n",
       "Name: Senior Management, dtype: int64"
      ]
     },
     "execution_count": 25,
     "metadata": {},
     "output_type": "execute_result"
    }
   ],
   "source": [
    "emp_df[\"Senior Management\"].value_counts()"
   ]
  },
  {
   "cell_type": "code",
   "execution_count": 26,
   "id": "0fe66895",
   "metadata": {},
   "outputs": [
    {
     "data": {
      "text/plain": [
       "0    True\n",
       "dtype: object"
      ]
     },
     "execution_count": 26,
     "metadata": {},
     "output_type": "execute_result"
    }
   ],
   "source": [
    "emp_df[\"Senior Management\"].mode()"
   ]
  },
  {
   "cell_type": "code",
   "execution_count": 27,
   "id": "005de8fb",
   "metadata": {},
   "outputs": [],
   "source": [
    "emp_df['Senior Management'].fillna(value=emp_df['Senior Management'].mode()[0], inplace=True)   # fill NA of Team column by mode"
   ]
  },
  {
   "cell_type": "code",
   "execution_count": 28,
   "id": "8a3fd7a0",
   "metadata": {},
   "outputs": [
    {
     "data": {
      "text/plain": [
       "Female    431\n",
       "Male      424\n",
       "Name: Gender, dtype: int64"
      ]
     },
     "execution_count": 28,
     "metadata": {},
     "output_type": "execute_result"
    }
   ],
   "source": [
    "emp_df[\"Gender\"].value_counts()"
   ]
  },
  {
   "cell_type": "code",
   "execution_count": 29,
   "id": "e8e7450e",
   "metadata": {},
   "outputs": [
    {
     "data": {
      "text/plain": [
       "0    Female\n",
       "dtype: object"
      ]
     },
     "execution_count": 29,
     "metadata": {},
     "output_type": "execute_result"
    }
   ],
   "source": [
    "emp_df[\"Gender\"].mode()"
   ]
  },
  {
   "cell_type": "code",
   "execution_count": 30,
   "id": "853b5e13",
   "metadata": {},
   "outputs": [],
   "source": [
    "emp_df.Gender.fillna(value=emp_df.Gender.mode()[0], inplace=True)   # fill NA of Team column by mode"
   ]
  },
  {
   "cell_type": "code",
   "execution_count": 31,
   "id": "e8be2af1",
   "metadata": {},
   "outputs": [
    {
     "data": {
      "text/plain": [
       "First Name           67\n",
       "Gender                0\n",
       "Start Date            0\n",
       "Last Login Time       0\n",
       "Salary                0\n",
       "Bonus %               0\n",
       "Senior Management     0\n",
       "Team                  0\n",
       "dtype: int64"
      ]
     },
     "execution_count": 31,
     "metadata": {},
     "output_type": "execute_result"
    }
   ],
   "source": [
    "emp_df.isna().sum()   # check total null records"
   ]
  },
  {
   "cell_type": "code",
   "execution_count": 32,
   "id": "917e03a8",
   "metadata": {},
   "outputs": [
    {
     "data": {
      "text/html": [
       "<div>\n",
       "<style scoped>\n",
       "    .dataframe tbody tr th:only-of-type {\n",
       "        vertical-align: middle;\n",
       "    }\n",
       "\n",
       "    .dataframe tbody tr th {\n",
       "        vertical-align: top;\n",
       "    }\n",
       "\n",
       "    .dataframe thead th {\n",
       "        text-align: right;\n",
       "    }\n",
       "</style>\n",
       "<table border=\"1\" class=\"dataframe\">\n",
       "  <thead>\n",
       "    <tr style=\"text-align: right;\">\n",
       "      <th></th>\n",
       "      <th>First Name</th>\n",
       "      <th>Gender</th>\n",
       "      <th>Start Date</th>\n",
       "      <th>Last Login Time</th>\n",
       "      <th>Salary</th>\n",
       "      <th>Bonus %</th>\n",
       "      <th>Senior Management</th>\n",
       "    </tr>\n",
       "    <tr>\n",
       "      <th>Team</th>\n",
       "      <th></th>\n",
       "      <th></th>\n",
       "      <th></th>\n",
       "      <th></th>\n",
       "      <th></th>\n",
       "      <th></th>\n",
       "      <th></th>\n",
       "    </tr>\n",
       "  </thead>\n",
       "  <tbody>\n",
       "    <tr>\n",
       "      <th>Business Development</th>\n",
       "      <td>99</td>\n",
       "      <td>101</td>\n",
       "      <td>101</td>\n",
       "      <td>101</td>\n",
       "      <td>101</td>\n",
       "      <td>101</td>\n",
       "      <td>101</td>\n",
       "    </tr>\n",
       "    <tr>\n",
       "      <th>Client Services</th>\n",
       "      <td>134</td>\n",
       "      <td>149</td>\n",
       "      <td>149</td>\n",
       "      <td>149</td>\n",
       "      <td>149</td>\n",
       "      <td>149</td>\n",
       "      <td>149</td>\n",
       "    </tr>\n",
       "    <tr>\n",
       "      <th>Distribution</th>\n",
       "      <td>77</td>\n",
       "      <td>90</td>\n",
       "      <td>90</td>\n",
       "      <td>90</td>\n",
       "      <td>90</td>\n",
       "      <td>90</td>\n",
       "      <td>90</td>\n",
       "    </tr>\n",
       "    <tr>\n",
       "      <th>Engineering</th>\n",
       "      <td>86</td>\n",
       "      <td>92</td>\n",
       "      <td>92</td>\n",
       "      <td>92</td>\n",
       "      <td>92</td>\n",
       "      <td>92</td>\n",
       "      <td>92</td>\n",
       "    </tr>\n",
       "    <tr>\n",
       "      <th>Finance</th>\n",
       "      <td>97</td>\n",
       "      <td>102</td>\n",
       "      <td>102</td>\n",
       "      <td>102</td>\n",
       "      <td>102</td>\n",
       "      <td>102</td>\n",
       "      <td>102</td>\n",
       "    </tr>\n",
       "    <tr>\n",
       "      <th>Human Resources</th>\n",
       "      <td>85</td>\n",
       "      <td>91</td>\n",
       "      <td>91</td>\n",
       "      <td>91</td>\n",
       "      <td>91</td>\n",
       "      <td>91</td>\n",
       "      <td>91</td>\n",
       "    </tr>\n",
       "    <tr>\n",
       "      <th>Legal</th>\n",
       "      <td>86</td>\n",
       "      <td>88</td>\n",
       "      <td>88</td>\n",
       "      <td>88</td>\n",
       "      <td>88</td>\n",
       "      <td>88</td>\n",
       "      <td>88</td>\n",
       "    </tr>\n",
       "    <tr>\n",
       "      <th>Marketing</th>\n",
       "      <td>91</td>\n",
       "      <td>98</td>\n",
       "      <td>98</td>\n",
       "      <td>98</td>\n",
       "      <td>98</td>\n",
       "      <td>98</td>\n",
       "      <td>98</td>\n",
       "    </tr>\n",
       "    <tr>\n",
       "      <th>Product</th>\n",
       "      <td>92</td>\n",
       "      <td>95</td>\n",
       "      <td>95</td>\n",
       "      <td>95</td>\n",
       "      <td>95</td>\n",
       "      <td>95</td>\n",
       "      <td>95</td>\n",
       "    </tr>\n",
       "    <tr>\n",
       "      <th>Sales</th>\n",
       "      <td>86</td>\n",
       "      <td>94</td>\n",
       "      <td>94</td>\n",
       "      <td>94</td>\n",
       "      <td>94</td>\n",
       "      <td>94</td>\n",
       "      <td>94</td>\n",
       "    </tr>\n",
       "  </tbody>\n",
       "</table>\n",
       "</div>"
      ],
      "text/plain": [
       "                      First Name  Gender  Start Date  Last Login Time  Salary  \\\n",
       "Team                                                                            \n",
       "Business Development          99     101         101              101     101   \n",
       "Client Services              134     149         149              149     149   \n",
       "Distribution                  77      90          90               90      90   \n",
       "Engineering                   86      92          92               92      92   \n",
       "Finance                       97     102         102              102     102   \n",
       "Human Resources               85      91          91               91      91   \n",
       "Legal                         86      88          88               88      88   \n",
       "Marketing                     91      98          98               98      98   \n",
       "Product                       92      95          95               95      95   \n",
       "Sales                         86      94          94               94      94   \n",
       "\n",
       "                      Bonus %  Senior Management  \n",
       "Team                                              \n",
       "Business Development      101                101  \n",
       "Client Services           149                149  \n",
       "Distribution               90                 90  \n",
       "Engineering                92                 92  \n",
       "Finance                   102                102  \n",
       "Human Resources            91                 91  \n",
       "Legal                      88                 88  \n",
       "Marketing                  98                 98  \n",
       "Product                    95                 95  \n",
       "Sales                      94                 94  "
      ]
     },
     "execution_count": 32,
     "metadata": {},
     "output_type": "execute_result"
    }
   ],
   "source": [
    "emp_df.groupby('Team').count()    # group by team"
   ]
  },
  {
   "cell_type": "code",
   "execution_count": 33,
   "id": "d6fb03ad",
   "metadata": {},
   "outputs": [
    {
     "data": {
      "text/html": [
       "<div>\n",
       "<style scoped>\n",
       "    .dataframe tbody tr th:only-of-type {\n",
       "        vertical-align: middle;\n",
       "    }\n",
       "\n",
       "    .dataframe tbody tr th {\n",
       "        vertical-align: top;\n",
       "    }\n",
       "\n",
       "    .dataframe thead th {\n",
       "        text-align: right;\n",
       "    }\n",
       "</style>\n",
       "<table border=\"1\" class=\"dataframe\">\n",
       "  <thead>\n",
       "    <tr style=\"text-align: right;\">\n",
       "      <th></th>\n",
       "      <th></th>\n",
       "      <th>First Name</th>\n",
       "      <th>Start Date</th>\n",
       "      <th>Last Login Time</th>\n",
       "      <th>Salary</th>\n",
       "      <th>Bonus %</th>\n",
       "      <th>Senior Management</th>\n",
       "    </tr>\n",
       "    <tr>\n",
       "      <th>Team</th>\n",
       "      <th>Gender</th>\n",
       "      <th></th>\n",
       "      <th></th>\n",
       "      <th></th>\n",
       "      <th></th>\n",
       "      <th></th>\n",
       "      <th></th>\n",
       "    </tr>\n",
       "  </thead>\n",
       "  <tbody>\n",
       "    <tr>\n",
       "      <th rowspan=\"2\" valign=\"top\">Business Development</th>\n",
       "      <th>Female</th>\n",
       "      <td>60</td>\n",
       "      <td>61</td>\n",
       "      <td>61</td>\n",
       "      <td>61</td>\n",
       "      <td>61</td>\n",
       "      <td>61</td>\n",
       "    </tr>\n",
       "    <tr>\n",
       "      <th>Male</th>\n",
       "      <td>39</td>\n",
       "      <td>40</td>\n",
       "      <td>40</td>\n",
       "      <td>40</td>\n",
       "      <td>40</td>\n",
       "      <td>40</td>\n",
       "    </tr>\n",
       "    <tr>\n",
       "      <th rowspan=\"2\" valign=\"top\">Client Services</th>\n",
       "      <th>Female</th>\n",
       "      <td>72</td>\n",
       "      <td>81</td>\n",
       "      <td>81</td>\n",
       "      <td>81</td>\n",
       "      <td>81</td>\n",
       "      <td>81</td>\n",
       "    </tr>\n",
       "    <tr>\n",
       "      <th>Male</th>\n",
       "      <td>62</td>\n",
       "      <td>68</td>\n",
       "      <td>68</td>\n",
       "      <td>68</td>\n",
       "      <td>68</td>\n",
       "      <td>68</td>\n",
       "    </tr>\n",
       "    <tr>\n",
       "      <th rowspan=\"2\" valign=\"top\">Distribution</th>\n",
       "      <th>Female</th>\n",
       "      <td>48</td>\n",
       "      <td>55</td>\n",
       "      <td>55</td>\n",
       "      <td>55</td>\n",
       "      <td>55</td>\n",
       "      <td>55</td>\n",
       "    </tr>\n",
       "    <tr>\n",
       "      <th>Male</th>\n",
       "      <td>29</td>\n",
       "      <td>35</td>\n",
       "      <td>35</td>\n",
       "      <td>35</td>\n",
       "      <td>35</td>\n",
       "      <td>35</td>\n",
       "    </tr>\n",
       "    <tr>\n",
       "      <th rowspan=\"2\" valign=\"top\">Engineering</th>\n",
       "      <th>Female</th>\n",
       "      <td>50</td>\n",
       "      <td>52</td>\n",
       "      <td>52</td>\n",
       "      <td>52</td>\n",
       "      <td>52</td>\n",
       "      <td>52</td>\n",
       "    </tr>\n",
       "    <tr>\n",
       "      <th>Male</th>\n",
       "      <td>36</td>\n",
       "      <td>40</td>\n",
       "      <td>40</td>\n",
       "      <td>40</td>\n",
       "      <td>40</td>\n",
       "      <td>40</td>\n",
       "    </tr>\n",
       "    <tr>\n",
       "      <th rowspan=\"2\" valign=\"top\">Finance</th>\n",
       "      <th>Female</th>\n",
       "      <td>59</td>\n",
       "      <td>61</td>\n",
       "      <td>61</td>\n",
       "      <td>61</td>\n",
       "      <td>61</td>\n",
       "      <td>61</td>\n",
       "    </tr>\n",
       "    <tr>\n",
       "      <th>Male</th>\n",
       "      <td>38</td>\n",
       "      <td>41</td>\n",
       "      <td>41</td>\n",
       "      <td>41</td>\n",
       "      <td>41</td>\n",
       "      <td>41</td>\n",
       "    </tr>\n",
       "    <tr>\n",
       "      <th rowspan=\"2\" valign=\"top\">Human Resources</th>\n",
       "      <th>Female</th>\n",
       "      <td>42</td>\n",
       "      <td>46</td>\n",
       "      <td>46</td>\n",
       "      <td>46</td>\n",
       "      <td>46</td>\n",
       "      <td>46</td>\n",
       "    </tr>\n",
       "    <tr>\n",
       "      <th>Male</th>\n",
       "      <td>43</td>\n",
       "      <td>45</td>\n",
       "      <td>45</td>\n",
       "      <td>45</td>\n",
       "      <td>45</td>\n",
       "      <td>45</td>\n",
       "    </tr>\n",
       "    <tr>\n",
       "      <th rowspan=\"2\" valign=\"top\">Legal</th>\n",
       "      <th>Female</th>\n",
       "      <td>52</td>\n",
       "      <td>53</td>\n",
       "      <td>53</td>\n",
       "      <td>53</td>\n",
       "      <td>53</td>\n",
       "      <td>53</td>\n",
       "    </tr>\n",
       "    <tr>\n",
       "      <th>Male</th>\n",
       "      <td>34</td>\n",
       "      <td>35</td>\n",
       "      <td>35</td>\n",
       "      <td>35</td>\n",
       "      <td>35</td>\n",
       "      <td>35</td>\n",
       "    </tr>\n",
       "    <tr>\n",
       "      <th rowspan=\"2\" valign=\"top\">Marketing</th>\n",
       "      <th>Female</th>\n",
       "      <td>53</td>\n",
       "      <td>57</td>\n",
       "      <td>57</td>\n",
       "      <td>57</td>\n",
       "      <td>57</td>\n",
       "      <td>57</td>\n",
       "    </tr>\n",
       "    <tr>\n",
       "      <th>Male</th>\n",
       "      <td>38</td>\n",
       "      <td>41</td>\n",
       "      <td>41</td>\n",
       "      <td>41</td>\n",
       "      <td>41</td>\n",
       "      <td>41</td>\n",
       "    </tr>\n",
       "    <tr>\n",
       "      <th rowspan=\"2\" valign=\"top\">Product</th>\n",
       "      <th>Female</th>\n",
       "      <td>53</td>\n",
       "      <td>55</td>\n",
       "      <td>55</td>\n",
       "      <td>55</td>\n",
       "      <td>55</td>\n",
       "      <td>55</td>\n",
       "    </tr>\n",
       "    <tr>\n",
       "      <th>Male</th>\n",
       "      <td>39</td>\n",
       "      <td>40</td>\n",
       "      <td>40</td>\n",
       "      <td>40</td>\n",
       "      <td>40</td>\n",
       "      <td>40</td>\n",
       "    </tr>\n",
       "    <tr>\n",
       "      <th rowspan=\"2\" valign=\"top\">Sales</th>\n",
       "      <th>Female</th>\n",
       "      <td>49</td>\n",
       "      <td>55</td>\n",
       "      <td>55</td>\n",
       "      <td>55</td>\n",
       "      <td>55</td>\n",
       "      <td>55</td>\n",
       "    </tr>\n",
       "    <tr>\n",
       "      <th>Male</th>\n",
       "      <td>37</td>\n",
       "      <td>39</td>\n",
       "      <td>39</td>\n",
       "      <td>39</td>\n",
       "      <td>39</td>\n",
       "      <td>39</td>\n",
       "    </tr>\n",
       "  </tbody>\n",
       "</table>\n",
       "</div>"
      ],
      "text/plain": [
       "                             First Name  Start Date  Last Login Time  Salary  \\\n",
       "Team                 Gender                                                    \n",
       "Business Development Female          60          61               61      61   \n",
       "                     Male            39          40               40      40   \n",
       "Client Services      Female          72          81               81      81   \n",
       "                     Male            62          68               68      68   \n",
       "Distribution         Female          48          55               55      55   \n",
       "                     Male            29          35               35      35   \n",
       "Engineering          Female          50          52               52      52   \n",
       "                     Male            36          40               40      40   \n",
       "Finance              Female          59          61               61      61   \n",
       "                     Male            38          41               41      41   \n",
       "Human Resources      Female          42          46               46      46   \n",
       "                     Male            43          45               45      45   \n",
       "Legal                Female          52          53               53      53   \n",
       "                     Male            34          35               35      35   \n",
       "Marketing            Female          53          57               57      57   \n",
       "                     Male            38          41               41      41   \n",
       "Product              Female          53          55               55      55   \n",
       "                     Male            39          40               40      40   \n",
       "Sales                Female          49          55               55      55   \n",
       "                     Male            37          39               39      39   \n",
       "\n",
       "                             Bonus %  Senior Management  \n",
       "Team                 Gender                              \n",
       "Business Development Female       61                 61  \n",
       "                     Male         40                 40  \n",
       "Client Services      Female       81                 81  \n",
       "                     Male         68                 68  \n",
       "Distribution         Female       55                 55  \n",
       "                     Male         35                 35  \n",
       "Engineering          Female       52                 52  \n",
       "                     Male         40                 40  \n",
       "Finance              Female       61                 61  \n",
       "                     Male         41                 41  \n",
       "Human Resources      Female       46                 46  \n",
       "                     Male         45                 45  \n",
       "Legal                Female       53                 53  \n",
       "                     Male         35                 35  \n",
       "Marketing            Female       57                 57  \n",
       "                     Male         41                 41  \n",
       "Product              Female       55                 55  \n",
       "                     Male         40                 40  \n",
       "Sales                Female       55                 55  \n",
       "                     Male         39                 39  "
      ]
     },
     "execution_count": 33,
     "metadata": {},
     "output_type": "execute_result"
    }
   ],
   "source": [
    "emp_df.groupby(['Team', 'Gender']).count()    # group by team and gender"
   ]
  },
  {
   "cell_type": "code",
   "execution_count": 34,
   "id": "0cf73e0d",
   "metadata": {},
   "outputs": [
    {
     "data": {
      "text/plain": [
       "True     535\n",
       "False    465\n",
       "Name: Senior Management, dtype: int64"
      ]
     },
     "execution_count": 34,
     "metadata": {},
     "output_type": "execute_result"
    }
   ],
   "source": [
    "emp_df[\"Senior Management\"].value_counts()     # Senior Management value count"
   ]
  },
  {
   "cell_type": "code",
   "execution_count": 35,
   "id": "39ea47e3",
   "metadata": {},
   "outputs": [
    {
     "data": {
      "text/html": [
       "<div>\n",
       "<style scoped>\n",
       "    .dataframe tbody tr th:only-of-type {\n",
       "        vertical-align: middle;\n",
       "    }\n",
       "\n",
       "    .dataframe tbody tr th {\n",
       "        vertical-align: top;\n",
       "    }\n",
       "\n",
       "    .dataframe thead th {\n",
       "        text-align: right;\n",
       "    }\n",
       "</style>\n",
       "<table border=\"1\" class=\"dataframe\">\n",
       "  <thead>\n",
       "    <tr style=\"text-align: right;\">\n",
       "      <th></th>\n",
       "      <th></th>\n",
       "      <th></th>\n",
       "      <th>First Name</th>\n",
       "      <th>Start Date</th>\n",
       "      <th>Last Login Time</th>\n",
       "      <th>Salary</th>\n",
       "      <th>Bonus %</th>\n",
       "    </tr>\n",
       "    <tr>\n",
       "      <th>Team</th>\n",
       "      <th>Senior Management</th>\n",
       "      <th>Gender</th>\n",
       "      <th></th>\n",
       "      <th></th>\n",
       "      <th></th>\n",
       "      <th></th>\n",
       "      <th></th>\n",
       "    </tr>\n",
       "  </thead>\n",
       "  <tbody>\n",
       "    <tr>\n",
       "      <th rowspan=\"4\" valign=\"top\">Business Development</th>\n",
       "      <th rowspan=\"2\" valign=\"top\">False</th>\n",
       "      <th>Female</th>\n",
       "      <td>28</td>\n",
       "      <td>28</td>\n",
       "      <td>28</td>\n",
       "      <td>28</td>\n",
       "      <td>28</td>\n",
       "    </tr>\n",
       "    <tr>\n",
       "      <th>Male</th>\n",
       "      <td>17</td>\n",
       "      <td>17</td>\n",
       "      <td>17</td>\n",
       "      <td>17</td>\n",
       "      <td>17</td>\n",
       "    </tr>\n",
       "    <tr>\n",
       "      <th rowspan=\"2\" valign=\"top\">True</th>\n",
       "      <th>Female</th>\n",
       "      <td>32</td>\n",
       "      <td>33</td>\n",
       "      <td>33</td>\n",
       "      <td>33</td>\n",
       "      <td>33</td>\n",
       "    </tr>\n",
       "    <tr>\n",
       "      <th>Male</th>\n",
       "      <td>22</td>\n",
       "      <td>23</td>\n",
       "      <td>23</td>\n",
       "      <td>23</td>\n",
       "      <td>23</td>\n",
       "    </tr>\n",
       "    <tr>\n",
       "      <th rowspan=\"4\" valign=\"top\">Client Services</th>\n",
       "      <th rowspan=\"2\" valign=\"top\">False</th>\n",
       "      <th>Female</th>\n",
       "      <td>41</td>\n",
       "      <td>41</td>\n",
       "      <td>41</td>\n",
       "      <td>41</td>\n",
       "      <td>41</td>\n",
       "    </tr>\n",
       "    <tr>\n",
       "      <th>Male</th>\n",
       "      <td>33</td>\n",
       "      <td>33</td>\n",
       "      <td>33</td>\n",
       "      <td>33</td>\n",
       "      <td>33</td>\n",
       "    </tr>\n",
       "    <tr>\n",
       "      <th rowspan=\"2\" valign=\"top\">True</th>\n",
       "      <th>Female</th>\n",
       "      <td>31</td>\n",
       "      <td>40</td>\n",
       "      <td>40</td>\n",
       "      <td>40</td>\n",
       "      <td>40</td>\n",
       "    </tr>\n",
       "    <tr>\n",
       "      <th>Male</th>\n",
       "      <td>29</td>\n",
       "      <td>35</td>\n",
       "      <td>35</td>\n",
       "      <td>35</td>\n",
       "      <td>35</td>\n",
       "    </tr>\n",
       "    <tr>\n",
       "      <th rowspan=\"4\" valign=\"top\">Distribution</th>\n",
       "      <th rowspan=\"2\" valign=\"top\">False</th>\n",
       "      <th>Female</th>\n",
       "      <td>26</td>\n",
       "      <td>26</td>\n",
       "      <td>26</td>\n",
       "      <td>26</td>\n",
       "      <td>26</td>\n",
       "    </tr>\n",
       "    <tr>\n",
       "      <th>Male</th>\n",
       "      <td>13</td>\n",
       "      <td>13</td>\n",
       "      <td>13</td>\n",
       "      <td>13</td>\n",
       "      <td>13</td>\n",
       "    </tr>\n",
       "    <tr>\n",
       "      <th rowspan=\"2\" valign=\"top\">True</th>\n",
       "      <th>Female</th>\n",
       "      <td>22</td>\n",
       "      <td>29</td>\n",
       "      <td>29</td>\n",
       "      <td>29</td>\n",
       "      <td>29</td>\n",
       "    </tr>\n",
       "    <tr>\n",
       "      <th>Male</th>\n",
       "      <td>16</td>\n",
       "      <td>22</td>\n",
       "      <td>22</td>\n",
       "      <td>22</td>\n",
       "      <td>22</td>\n",
       "    </tr>\n",
       "    <tr>\n",
       "      <th rowspan=\"4\" valign=\"top\">Engineering</th>\n",
       "      <th rowspan=\"2\" valign=\"top\">False</th>\n",
       "      <th>Female</th>\n",
       "      <td>22</td>\n",
       "      <td>22</td>\n",
       "      <td>22</td>\n",
       "      <td>22</td>\n",
       "      <td>22</td>\n",
       "    </tr>\n",
       "    <tr>\n",
       "      <th>Male</th>\n",
       "      <td>15</td>\n",
       "      <td>15</td>\n",
       "      <td>15</td>\n",
       "      <td>15</td>\n",
       "      <td>15</td>\n",
       "    </tr>\n",
       "    <tr>\n",
       "      <th rowspan=\"2\" valign=\"top\">True</th>\n",
       "      <th>Female</th>\n",
       "      <td>28</td>\n",
       "      <td>30</td>\n",
       "      <td>30</td>\n",
       "      <td>30</td>\n",
       "      <td>30</td>\n",
       "    </tr>\n",
       "    <tr>\n",
       "      <th>Male</th>\n",
       "      <td>21</td>\n",
       "      <td>25</td>\n",
       "      <td>25</td>\n",
       "      <td>25</td>\n",
       "      <td>25</td>\n",
       "    </tr>\n",
       "    <tr>\n",
       "      <th rowspan=\"4\" valign=\"top\">Finance</th>\n",
       "      <th rowspan=\"2\" valign=\"top\">False</th>\n",
       "      <th>Female</th>\n",
       "      <td>31</td>\n",
       "      <td>31</td>\n",
       "      <td>31</td>\n",
       "      <td>31</td>\n",
       "      <td>31</td>\n",
       "    </tr>\n",
       "    <tr>\n",
       "      <th>Male</th>\n",
       "      <td>20</td>\n",
       "      <td>20</td>\n",
       "      <td>20</td>\n",
       "      <td>20</td>\n",
       "      <td>20</td>\n",
       "    </tr>\n",
       "    <tr>\n",
       "      <th rowspan=\"2\" valign=\"top\">True</th>\n",
       "      <th>Female</th>\n",
       "      <td>28</td>\n",
       "      <td>30</td>\n",
       "      <td>30</td>\n",
       "      <td>30</td>\n",
       "      <td>30</td>\n",
       "    </tr>\n",
       "    <tr>\n",
       "      <th>Male</th>\n",
       "      <td>18</td>\n",
       "      <td>21</td>\n",
       "      <td>21</td>\n",
       "      <td>21</td>\n",
       "      <td>21</td>\n",
       "    </tr>\n",
       "    <tr>\n",
       "      <th rowspan=\"4\" valign=\"top\">Human Resources</th>\n",
       "      <th rowspan=\"2\" valign=\"top\">False</th>\n",
       "      <th>Female</th>\n",
       "      <td>20</td>\n",
       "      <td>20</td>\n",
       "      <td>20</td>\n",
       "      <td>20</td>\n",
       "      <td>20</td>\n",
       "    </tr>\n",
       "    <tr>\n",
       "      <th>Male</th>\n",
       "      <td>20</td>\n",
       "      <td>20</td>\n",
       "      <td>20</td>\n",
       "      <td>20</td>\n",
       "      <td>20</td>\n",
       "    </tr>\n",
       "    <tr>\n",
       "      <th rowspan=\"2\" valign=\"top\">True</th>\n",
       "      <th>Female</th>\n",
       "      <td>22</td>\n",
       "      <td>26</td>\n",
       "      <td>26</td>\n",
       "      <td>26</td>\n",
       "      <td>26</td>\n",
       "    </tr>\n",
       "    <tr>\n",
       "      <th>Male</th>\n",
       "      <td>23</td>\n",
       "      <td>25</td>\n",
       "      <td>25</td>\n",
       "      <td>25</td>\n",
       "      <td>25</td>\n",
       "    </tr>\n",
       "    <tr>\n",
       "      <th rowspan=\"4\" valign=\"top\">Legal</th>\n",
       "      <th rowspan=\"2\" valign=\"top\">False</th>\n",
       "      <th>Female</th>\n",
       "      <td>23</td>\n",
       "      <td>23</td>\n",
       "      <td>23</td>\n",
       "      <td>23</td>\n",
       "      <td>23</td>\n",
       "    </tr>\n",
       "    <tr>\n",
       "      <th>Male</th>\n",
       "      <td>22</td>\n",
       "      <td>22</td>\n",
       "      <td>22</td>\n",
       "      <td>22</td>\n",
       "      <td>22</td>\n",
       "    </tr>\n",
       "    <tr>\n",
       "      <th rowspan=\"2\" valign=\"top\">True</th>\n",
       "      <th>Female</th>\n",
       "      <td>29</td>\n",
       "      <td>30</td>\n",
       "      <td>30</td>\n",
       "      <td>30</td>\n",
       "      <td>30</td>\n",
       "    </tr>\n",
       "    <tr>\n",
       "      <th>Male</th>\n",
       "      <td>12</td>\n",
       "      <td>13</td>\n",
       "      <td>13</td>\n",
       "      <td>13</td>\n",
       "      <td>13</td>\n",
       "    </tr>\n",
       "    <tr>\n",
       "      <th rowspan=\"4\" valign=\"top\">Marketing</th>\n",
       "      <th rowspan=\"2\" valign=\"top\">False</th>\n",
       "      <th>Female</th>\n",
       "      <td>24</td>\n",
       "      <td>24</td>\n",
       "      <td>24</td>\n",
       "      <td>24</td>\n",
       "      <td>24</td>\n",
       "    </tr>\n",
       "    <tr>\n",
       "      <th>Male</th>\n",
       "      <td>18</td>\n",
       "      <td>18</td>\n",
       "      <td>18</td>\n",
       "      <td>18</td>\n",
       "      <td>18</td>\n",
       "    </tr>\n",
       "    <tr>\n",
       "      <th rowspan=\"2\" valign=\"top\">True</th>\n",
       "      <th>Female</th>\n",
       "      <td>29</td>\n",
       "      <td>33</td>\n",
       "      <td>33</td>\n",
       "      <td>33</td>\n",
       "      <td>33</td>\n",
       "    </tr>\n",
       "    <tr>\n",
       "      <th>Male</th>\n",
       "      <td>20</td>\n",
       "      <td>23</td>\n",
       "      <td>23</td>\n",
       "      <td>23</td>\n",
       "      <td>23</td>\n",
       "    </tr>\n",
       "    <tr>\n",
       "      <th rowspan=\"4\" valign=\"top\">Product</th>\n",
       "      <th rowspan=\"2\" valign=\"top\">False</th>\n",
       "      <th>Female</th>\n",
       "      <td>28</td>\n",
       "      <td>28</td>\n",
       "      <td>28</td>\n",
       "      <td>28</td>\n",
       "      <td>28</td>\n",
       "    </tr>\n",
       "    <tr>\n",
       "      <th>Male</th>\n",
       "      <td>26</td>\n",
       "      <td>26</td>\n",
       "      <td>26</td>\n",
       "      <td>26</td>\n",
       "      <td>26</td>\n",
       "    </tr>\n",
       "    <tr>\n",
       "      <th rowspan=\"2\" valign=\"top\">True</th>\n",
       "      <th>Female</th>\n",
       "      <td>25</td>\n",
       "      <td>27</td>\n",
       "      <td>27</td>\n",
       "      <td>27</td>\n",
       "      <td>27</td>\n",
       "    </tr>\n",
       "    <tr>\n",
       "      <th>Male</th>\n",
       "      <td>13</td>\n",
       "      <td>14</td>\n",
       "      <td>14</td>\n",
       "      <td>14</td>\n",
       "      <td>14</td>\n",
       "    </tr>\n",
       "    <tr>\n",
       "      <th rowspan=\"4\" valign=\"top\">Sales</th>\n",
       "      <th rowspan=\"2\" valign=\"top\">False</th>\n",
       "      <th>Female</th>\n",
       "      <td>24</td>\n",
       "      <td>24</td>\n",
       "      <td>24</td>\n",
       "      <td>24</td>\n",
       "      <td>24</td>\n",
       "    </tr>\n",
       "    <tr>\n",
       "      <th>Male</th>\n",
       "      <td>14</td>\n",
       "      <td>14</td>\n",
       "      <td>14</td>\n",
       "      <td>14</td>\n",
       "      <td>14</td>\n",
       "    </tr>\n",
       "    <tr>\n",
       "      <th rowspan=\"2\" valign=\"top\">True</th>\n",
       "      <th>Female</th>\n",
       "      <td>25</td>\n",
       "      <td>31</td>\n",
       "      <td>31</td>\n",
       "      <td>31</td>\n",
       "      <td>31</td>\n",
       "    </tr>\n",
       "    <tr>\n",
       "      <th>Male</th>\n",
       "      <td>23</td>\n",
       "      <td>25</td>\n",
       "      <td>25</td>\n",
       "      <td>25</td>\n",
       "      <td>25</td>\n",
       "    </tr>\n",
       "  </tbody>\n",
       "</table>\n",
       "</div>"
      ],
      "text/plain": [
       "                                               First Name  Start Date  \\\n",
       "Team                 Senior Management Gender                           \n",
       "Business Development False             Female          28          28   \n",
       "                                       Male            17          17   \n",
       "                     True              Female          32          33   \n",
       "                                       Male            22          23   \n",
       "Client Services      False             Female          41          41   \n",
       "                                       Male            33          33   \n",
       "                     True              Female          31          40   \n",
       "                                       Male            29          35   \n",
       "Distribution         False             Female          26          26   \n",
       "                                       Male            13          13   \n",
       "                     True              Female          22          29   \n",
       "                                       Male            16          22   \n",
       "Engineering          False             Female          22          22   \n",
       "                                       Male            15          15   \n",
       "                     True              Female          28          30   \n",
       "                                       Male            21          25   \n",
       "Finance              False             Female          31          31   \n",
       "                                       Male            20          20   \n",
       "                     True              Female          28          30   \n",
       "                                       Male            18          21   \n",
       "Human Resources      False             Female          20          20   \n",
       "                                       Male            20          20   \n",
       "                     True              Female          22          26   \n",
       "                                       Male            23          25   \n",
       "Legal                False             Female          23          23   \n",
       "                                       Male            22          22   \n",
       "                     True              Female          29          30   \n",
       "                                       Male            12          13   \n",
       "Marketing            False             Female          24          24   \n",
       "                                       Male            18          18   \n",
       "                     True              Female          29          33   \n",
       "                                       Male            20          23   \n",
       "Product              False             Female          28          28   \n",
       "                                       Male            26          26   \n",
       "                     True              Female          25          27   \n",
       "                                       Male            13          14   \n",
       "Sales                False             Female          24          24   \n",
       "                                       Male            14          14   \n",
       "                     True              Female          25          31   \n",
       "                                       Male            23          25   \n",
       "\n",
       "                                               Last Login Time  Salary  \\\n",
       "Team                 Senior Management Gender                            \n",
       "Business Development False             Female               28      28   \n",
       "                                       Male                 17      17   \n",
       "                     True              Female               33      33   \n",
       "                                       Male                 23      23   \n",
       "Client Services      False             Female               41      41   \n",
       "                                       Male                 33      33   \n",
       "                     True              Female               40      40   \n",
       "                                       Male                 35      35   \n",
       "Distribution         False             Female               26      26   \n",
       "                                       Male                 13      13   \n",
       "                     True              Female               29      29   \n",
       "                                       Male                 22      22   \n",
       "Engineering          False             Female               22      22   \n",
       "                                       Male                 15      15   \n",
       "                     True              Female               30      30   \n",
       "                                       Male                 25      25   \n",
       "Finance              False             Female               31      31   \n",
       "                                       Male                 20      20   \n",
       "                     True              Female               30      30   \n",
       "                                       Male                 21      21   \n",
       "Human Resources      False             Female               20      20   \n",
       "                                       Male                 20      20   \n",
       "                     True              Female               26      26   \n",
       "                                       Male                 25      25   \n",
       "Legal                False             Female               23      23   \n",
       "                                       Male                 22      22   \n",
       "                     True              Female               30      30   \n",
       "                                       Male                 13      13   \n",
       "Marketing            False             Female               24      24   \n",
       "                                       Male                 18      18   \n",
       "                     True              Female               33      33   \n",
       "                                       Male                 23      23   \n",
       "Product              False             Female               28      28   \n",
       "                                       Male                 26      26   \n",
       "                     True              Female               27      27   \n",
       "                                       Male                 14      14   \n",
       "Sales                False             Female               24      24   \n",
       "                                       Male                 14      14   \n",
       "                     True              Female               31      31   \n",
       "                                       Male                 25      25   \n",
       "\n",
       "                                               Bonus %  \n",
       "Team                 Senior Management Gender           \n",
       "Business Development False             Female       28  \n",
       "                                       Male         17  \n",
       "                     True              Female       33  \n",
       "                                       Male         23  \n",
       "Client Services      False             Female       41  \n",
       "                                       Male         33  \n",
       "                     True              Female       40  \n",
       "                                       Male         35  \n",
       "Distribution         False             Female       26  \n",
       "                                       Male         13  \n",
       "                     True              Female       29  \n",
       "                                       Male         22  \n",
       "Engineering          False             Female       22  \n",
       "                                       Male         15  \n",
       "                     True              Female       30  \n",
       "                                       Male         25  \n",
       "Finance              False             Female       31  \n",
       "                                       Male         20  \n",
       "                     True              Female       30  \n",
       "                                       Male         21  \n",
       "Human Resources      False             Female       20  \n",
       "                                       Male         20  \n",
       "                     True              Female       26  \n",
       "                                       Male         25  \n",
       "Legal                False             Female       23  \n",
       "                                       Male         22  \n",
       "                     True              Female       30  \n",
       "                                       Male         13  \n",
       "Marketing            False             Female       24  \n",
       "                                       Male         18  \n",
       "                     True              Female       33  \n",
       "                                       Male         23  \n",
       "Product              False             Female       28  \n",
       "                                       Male         26  \n",
       "                     True              Female       27  \n",
       "                                       Male         14  \n",
       "Sales                False             Female       24  \n",
       "                                       Male         14  \n",
       "                     True              Female       31  \n",
       "                                       Male         25  "
      ]
     },
     "execution_count": 35,
     "metadata": {},
     "output_type": "execute_result"
    }
   ],
   "source": [
    "emp_df.groupby(['Team', 'Senior Management', 'Gender']).count()    # group by team, senior mngmnt, gender"
   ]
  },
  {
   "cell_type": "code",
   "execution_count": 36,
   "id": "af4b311b",
   "metadata": {},
   "outputs": [
    {
     "data": {
      "text/plain": [
       "Team                  Senior Management  Gender\n",
       "Business Development  False              Female    2789684\n",
       "                                         Male      1509533\n",
       "                      True               Female    2925944\n",
       "                                         Male      2053337\n",
       "Client Services       False              Female    3489300\n",
       "                                         Male      2905113\n",
       "                      True               Female    3587746\n",
       "                                         Male      3272445\n",
       "Distribution          False              Female    2159735\n",
       "                                         Male      1167558\n",
       "                      True               Female    2520144\n",
       "                                         Male      2117605\n",
       "Engineering           False              Female    1835902\n",
       "                                         Male      1517761\n",
       "                      True               Female    2900534\n",
       "                                         Male      2418569\n",
       "Finance               False              Female    2890834\n",
       "                                         Male      1806325\n",
       "                      True               Female    2599736\n",
       "                                         Male      2109492\n",
       "Human Resources       False              Female    1875184\n",
       "                                         Male      1915797\n",
       "                      True               Female    2289175\n",
       "                                         Male      2195796\n",
       "Legal                 False              Female    2129320\n",
       "                                         Male      1915796\n",
       "                      True               Female    2780485\n",
       "                                         Male      1033117\n",
       "Marketing             False              Female    2272580\n",
       "                                         Male      1387641\n",
       "                      True               Female    3060731\n",
       "                                         Male      2141736\n",
       "Product               False              Female    2491165\n",
       "                                         Male      2139703\n",
       "                      True               Female    2373745\n",
       "                                         Male      1418610\n",
       "Sales                 False              Female    2147925\n",
       "                                         Male      1334937\n",
       "                      True               Female    2881708\n",
       "                                         Male      2299733\n",
       "Name: Salary, dtype: int64"
      ]
     },
     "execution_count": 36,
     "metadata": {},
     "output_type": "execute_result"
    }
   ],
   "source": [
    "emp_df.groupby(['Team', 'Senior Management', 'Gender']).Salary.sum()      # salary count group by team, snr mngmnt, gender"
   ]
  },
  {
   "cell_type": "code",
   "execution_count": null,
   "id": "e151d71d",
   "metadata": {},
   "outputs": [],
   "source": []
  }
 ],
 "metadata": {
  "kernelspec": {
   "display_name": "Python 3 (ipykernel)",
   "language": "python",
   "name": "python3"
  },
  "language_info": {
   "codemirror_mode": {
    "name": "ipython",
    "version": 3
   },
   "file_extension": ".py",
   "mimetype": "text/x-python",
   "name": "python",
   "nbconvert_exporter": "python",
   "pygments_lexer": "ipython3",
   "version": "3.9.7"
  }
 },
 "nbformat": 4,
 "nbformat_minor": 5
}
